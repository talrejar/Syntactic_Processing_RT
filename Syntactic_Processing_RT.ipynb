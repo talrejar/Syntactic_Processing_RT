{
 "cells": [
  {
   "cell_type": "markdown",
   "metadata": {
    "id": "iL2sD0FMofG5"
   },
   "source": [
    "***Introduction***"
   ]
  },
  {
   "cell_type": "markdown",
   "metadata": {
    "id": "YEYAW8ttohLw"
   },
   "source": [
    "A health tech company called ‘BeHealthy’. They aim to connect the medical communities with millions of patients across the country. BeHealthy has a web platform that allows doctors to list their services and manage patient interactions and provides services for patients such as booking interactions with doctors and ordering medicines online. Here, doctors can easily organise appointments, track past medical records and provide e-prescriptions."
   ]
  },
  {
   "cell_type": "markdown",
   "metadata": {
    "id": "f5SPINDZoj9C"
   },
   "source": [
    "**Problem Statement**"
   ]
  },
  {
   "cell_type": "markdown",
   "metadata": {
    "id": "UoX526xyonbb"
   },
   "source": [
    "BeHealthy require predictive model which can identify disease and treatment from the patients interaction with doctor or ordering medicines online"
   ]
  },
  {
   "cell_type": "markdown",
   "metadata": {
    "id": "tgrrhfPzoqNQ"
   },
   "source": [
    "**Observation**"
   ]
  },
  {
   "cell_type": "markdown",
   "metadata": {
    "id": "FzdSjeLkouow"
   },
   "source": [
    "Here, idea is to extract the useful information from text and in addition to that the entity of the useful information also need to be identified.\n",
    "Because the information we are planning to extract from the statement/interactions between doctor and patients are related to medical terms which are not regular usage day-to-day words."
   ]
  },
  {
   "cell_type": "markdown",
   "metadata": {
    "id": "B8SBgb5npOCg"
   },
   "source": [
    "**Dataset Explanation**"
   ]
  },
  {
   "cell_type": "markdown",
   "metadata": {
    "id": "47TGIdm4pQuY"
   },
   "source": [
    "We have four data file for this activity to proceed, they are\n",
    "\n",
    "1. Train Sentence Dataset\n",
    "2. Train Label Dataset\n",
    "3. Test Sentence Dataset\n",
    "4. Test Label Dataset\n",
    "\n",
    "Sentence file contains all interations between patients and doctor and Label file contains all enitiy tags for particular words arranged as per sentence. We need to do few preprocessing while accessing dataset we will explore that in further steps"
   ]
  },
  {
   "cell_type": "markdown",
   "metadata": {
    "id": "IpnapwmjpcLu"
   },
   "source": [
    "**Library Explanation**"
   ]
  },
  {
   "cell_type": "markdown",
   "metadata": {
    "id": "JrlLuPL0pd7J"
   },
   "source": [
    "1. Pandas - Dataframe, Content storage and processing\n",
    "2. Regular Expression (re) - Identify the textual pattern\n",
    "3. SpaCy - NLP, POS tag check\n",
    "4. Warnings - To avoid warning messages\n",
    "5. Sklearn_CRFsuite - Model building and Evaluation"
   ]
  },
  {
   "cell_type": "markdown",
   "metadata": {
    "id": "rzlKeOc5srsS"
   },
   "source": [
    "**Mount Google drive**"
   ]
  },
  {
   "cell_type": "code",
   "execution_count": 1,
   "metadata": {
    "colab": {
     "base_uri": "https://localhost:8080/"
    },
    "id": "WS0qKNensvYs",
    "outputId": "e68bc749-3026-457f-a9e8-90a454403d40"
   },
   "outputs": [
    {
     "name": "stdout",
     "output_type": "stream",
     "text": [
      "Drive already mounted at /content/drive; to attempt to forcibly remount, call drive.mount(\"/content/drive\", force_remount=True).\n"
     ]
    }
   ],
   "source": [
    "from google.colab import drive\n",
    "drive.mount('/content/drive')"
   ]
  },
  {
   "cell_type": "markdown",
   "metadata": {
    "id": "r2Ed0sLqpqEn"
   },
   "source": [
    "**Libraries and Packages**"
   ]
  },
  {
   "cell_type": "code",
   "execution_count": 2,
   "metadata": {
    "colab": {
     "base_uri": "https://localhost:8080/"
    },
    "id": "c_hmRe4Aoes5",
    "outputId": "81773a1d-38cf-48ed-a4ad-0d86c56c513c"
   },
   "outputs": [
    {
     "name": "stdout",
     "output_type": "stream",
     "text": [
      "Collecting pycrf\n",
      "  Downloading pycrf-0.0.1.tar.gz (1.1 kB)\n",
      "  Preparing metadata (setup.py) ... \u001b[?25l\u001b[?25hdone\n",
      "Building wheels for collected packages: pycrf\n",
      "  Building wheel for pycrf (setup.py) ... \u001b[?25l\u001b[?25hdone\n",
      "  Created wheel for pycrf: filename=pycrf-0.0.1-py3-none-any.whl size=1870 sha256=906b032c1b268cfcd5d46a55ed91f2c7656596433bb428ca9f1e017c76bbd290\n",
      "  Stored in directory: /root/.cache/pip/wheels/fd/3a/fb/e4d15c9c2b169f43811b23a863ee9717ff3eda5d2301789043\n",
      "Successfully built pycrf\n",
      "Installing collected packages: pycrf\n",
      "Successfully installed pycrf-0.0.1\n",
      "Collecting sklearn-crfsuite\n",
      "  Downloading sklearn_crfsuite-0.3.6-py2.py3-none-any.whl (12 kB)\n",
      "Collecting python-crfsuite>=0.8.3 (from sklearn-crfsuite)\n",
      "  Downloading python_crfsuite-0.9.10-cp310-cp310-manylinux_2_17_x86_64.manylinux2014_x86_64.whl (1.1 MB)\n",
      "\u001b[2K     \u001b[90m━━━━━━━━━━━━━━━━━━━━━━━━━━━━━━━━━━━━━━━━\u001b[0m \u001b[32m1.1/1.1 MB\u001b[0m \u001b[31m6.7 MB/s\u001b[0m eta \u001b[36m0:00:00\u001b[0m\n",
      "\u001b[?25hRequirement already satisfied: six in /usr/local/lib/python3.10/dist-packages (from sklearn-crfsuite) (1.16.0)\n",
      "Requirement already satisfied: tabulate in /usr/local/lib/python3.10/dist-packages (from sklearn-crfsuite) (0.9.0)\n",
      "Requirement already satisfied: tqdm>=2.0 in /usr/local/lib/python3.10/dist-packages (from sklearn-crfsuite) (4.66.4)\n",
      "Installing collected packages: python-crfsuite, sklearn-crfsuite\n",
      "Successfully installed python-crfsuite-0.9.10 sklearn-crfsuite-0.3.6\n"
     ]
    }
   ],
   "source": [
    "# prompt: !pip install pycrf\n",
    "# !pip install sklearn-crfsuite\n",
    "\n",
    "!pip install pycrf\n",
    "!pip install sklearn-crfsuite\n"
   ]
  },
  {
   "cell_type": "code",
   "execution_count": 3,
   "metadata": {
    "id": "JztpGhSIpjI-"
   },
   "outputs": [],
   "source": [
    "# Library Import\n",
    "import pandas as pd\n",
    "import re\n",
    "import spacy\n",
    "import warnings\n",
    "warnings.filterwarnings('ignore')\n",
    "\n",
    "# Import model and metrics\n",
    "from sklearn_crfsuite import CRF, scorers, metrics"
   ]
  },
  {
   "cell_type": "code",
   "execution_count": 4,
   "metadata": {
    "id": "nHXIj0Vwp1yj"
   },
   "outputs": [],
   "source": [
    "# Extract sentence from words\n",
    "def content_extract(file_path='',sep='\\t'):\n",
    "    '''It helps to extract the word based on the separator to form the sentence'''\n",
    "    try:\n",
    "        with open (file_path,'r',encoding='utf-8') as text:\n",
    "            if text.mode  == 'r':\n",
    "                content = text.readlines()\n",
    "        sentence = []\n",
    "        final_sentence=''\n",
    "        for c in content:\n",
    "            content_word = c.strip('\\n')\n",
    "            if content_word == '':\n",
    "                #Once it get matched with separator, it appends previous extracted concatenated string as sentence\n",
    "#                 final_sentence = re.sub('(?<=[\\(]) | (?=[%\\',)])','', final_sentence)\n",
    "                sentence.append(final_sentence.strip(' '))\n",
    "\n",
    "                #Initialize for next sentence\n",
    "                final_sentence=''\n",
    "            else:\n",
    "                # Till the loop identifies the separator it concatenates string\n",
    "                final_sentence+=content_word+' '\n",
    "        print('Total identified value: ',len(sentence),'\\n')\n",
    "        print('Sample display value:\\n',sentence[:5])\n",
    "        return sentence\n",
    "    except FileNotFoundError:\n",
    "        print('Check and provide proper file path')"
   ]
  },
  {
   "cell_type": "code",
   "execution_count": 5,
   "metadata": {
    "id": "YCiYnrsxp8AC"
   },
   "outputs": [],
   "source": [
    "# A class to retrieve the sentences details from the dataframe\n",
    "class sentencedetail(object):\n",
    "    def __init__(self, data):\n",
    "        self.data = data\n",
    "        self.empty = False\n",
    "        agg_func = lambda s: [(w, p, l) for w, p, l in zip(s[\"word\"].values.tolist(), s[\"pos\"].values.tolist(),s[\"label\"].values.tolist())]\n",
    "        self.grouped = self.data.groupby(\"sentence\").apply(agg_func)\n",
    "        self.sentences = [s for s in self.grouped]"
   ]
  },
  {
   "cell_type": "code",
   "execution_count": 6,
   "metadata": {
    "id": "R34fqb5zqEVA"
   },
   "outputs": [],
   "source": [
    "# Feature set\n",
    "def word2features(sent, i):\n",
    "    word = sent[i][0]\n",
    "    postag = sent[i][1]\n",
    "\n",
    "    features = {\n",
    "        'bias': 1.0,\n",
    "        'word.lower()': word.lower(),\n",
    "        'word[0]': word[0],\n",
    "        'word[-1]': word[-1],\n",
    "        'word[-2:]': word[-2:],\n",
    "        'word.isupper()': word.isupper(),\n",
    "        'word.istitle()': word.istitle(),\n",
    "        'word.isdigit()': word.isdigit(),\n",
    "        'postag':postag,\n",
    "        'postag_isnounpronoun': postag in ['NOUN','PROPN'],\n",
    "        'postag[:2]': postag[:2],\n",
    "    }\n",
    "    if i > 0:\n",
    "        word1 = sent[i-1][0]\n",
    "        postag1 = sent[i-1][1]\n",
    "        features.update({\n",
    "            '-1:word.lower()': word1.lower(),\n",
    "            '-1:word[0]': word1[0],\n",
    "            '-1:word[-1]': word1[-1],\n",
    "            '-1:word.istitle()': word1.istitle(),\n",
    "            '-1:word.isupper()': word1.isupper(),\n",
    "            '-1:postag': postag1,\n",
    "            '-1:postag[:2]': postag1[:2],\n",
    "            '-1:postag_isnounpronoun': postag1 in ['NOUN','PROPN']\n",
    "        })\n",
    "    else:\n",
    "        features['BOS'] = True\n",
    "\n",
    "    if i < len(sent)-1:\n",
    "        word1 = sent[i+1][0]\n",
    "        postag1 = sent[i+1][1]\n",
    "        features.update({\n",
    "            '+1:word.lower()': word1.lower(),\n",
    "            '+1:word.istitle()': word1.istitle(),\n",
    "            '+1:word.isupper()': word1.isupper(),\n",
    "            '+1:postag': postag1,\n",
    "            '+1:postag[:2]': postag1[:2],\n",
    "            '+1:postag_isnounpronoun': postag1 in ['NOUN','PROPN']\n",
    "        })\n",
    "    else:\n",
    "        features['EOS'] = True\n",
    "\n",
    "    return features"
   ]
  },
  {
   "cell_type": "code",
   "execution_count": 7,
   "metadata": {
    "id": "RWRIPviGqJPd"
   },
   "outputs": [],
   "source": [
    "# Define a function to extract features for a sentence.\n",
    "def sent2features(sent):\n",
    "    return [word2features(sent, i) for i in range(len(sent))]"
   ]
  },
  {
   "cell_type": "code",
   "execution_count": 8,
   "metadata": {
    "id": "1sQ8KhfIqSrE"
   },
   "outputs": [],
   "source": [
    "# Define a function to get the labels for a sentence.\n",
    "def sent2labels(sent):\n",
    "    return [label for token, postag, label in sent]"
   ]
  },
  {
   "cell_type": "code",
   "execution_count": 9,
   "metadata": {
    "colab": {
     "base_uri": "https://localhost:8080/"
    },
    "id": "o7rCqqyNqaUd",
    "outputId": "9200c3ec-706b-4eea-8694-e237419889a5"
   },
   "outputs": [
    {
     "name": "stdout",
     "output_type": "stream",
     "text": [
      "Total identified value:  2599 \n",
      "\n",
      "Sample display value:\n",
      " ['All live births > or = 23 weeks at the University of Vermont in 1995 ( n = 2395 ) were retrospectively analyzed for delivery route , indication for cesarean , gestational age , parity , and practice group ( to reflect risk status )', 'The total cesarean rate was 14.4 % ( 344 of 2395 ) , and the primary rate was 11.4 % ( 244 of 2144 )', 'Abnormal presentation was the most common indication ( 25.6 % , 88 of 344 )', \"The `` corrected '' cesarean rate ( maternal-fetal medicine and transported patients excluded ) was 12.4 % ( 273 of 2194 ) , and the `` corrected '' primary rate was 9.6 % ( 190 of 1975 )\", \"Arrest of dilation was the most common indication in both `` corrected '' subgroups ( 23.4 and 24.6 % , respectively )\"]\n"
     ]
    }
   ],
   "source": [
    "# Train sentence extraction from dataset\n",
    "train_sent = content_extract(file_path='/content/drive/MyDrive/Syntactic_processing/train_sent',sep='\\n')"
   ]
  },
  {
   "cell_type": "code",
   "execution_count": 10,
   "metadata": {
    "colab": {
     "base_uri": "https://localhost:8080/"
    },
    "id": "xmXTfTyIr4zp",
    "outputId": "04efa3be-0088-4842-cdad-eb93ca85667e"
   },
   "outputs": [
    {
     "name": "stdout",
     "output_type": "stream",
     "text": [
      "Total identified value:  2599 \n",
      "\n",
      "Sample display value:\n",
      " ['O O O O O O O O O O O O O O O O O O O O O O O O O O O O O O O O O O O O O O O O O O O O O', 'O O O O O O O O O O O O O O O O O O O O O O O O O', 'O O O O O O O O O O O O O O O', 'O O O O O O O O O O O O O O O O O O O O O O O O O O O O O O O O O O O O O O', 'O O O O O O O O O O O O O O O O O O O O O O']\n"
     ]
    }
   ],
   "source": [
    "# Train label extraction from dataset\n",
    "train_label = content_extract(file_path='/content/drive/MyDrive/Syntactic_processing/train_label',sep='\\n')"
   ]
  },
  {
   "cell_type": "code",
   "execution_count": 11,
   "metadata": {
    "colab": {
     "base_uri": "https://localhost:8080/"
    },
    "id": "cRB5oaKGsCH3",
    "outputId": "fe8faac3-2691-49cc-af3c-d3c8e80cc3de"
   },
   "outputs": [
    {
     "name": "stdout",
     "output_type": "stream",
     "text": [
      "Total identified value:  1056 \n",
      "\n",
      "Sample display value:\n",
      " ['Furthermore , when all deliveries were analyzed , regardless of risk status but limited to gestational age > or = 36 weeks , the rates did not change ( 12.6 % , 280 of 2214 ; primary 9.2 % , 183 of 1994 )', 'As the ambient temperature increases , there is an increase in insensible fluid loss and the potential for dehydration', 'The daily high temperature ranged from 71 to 104 degrees F and AFI values ranged from 1.7 to 24.7 cm during the study period', 'There was a significant correlation between the 2- , 3- , and 4-day mean temperature and AFI , with the 4-day mean being the most significant ( r = 0.31 , p & # 60 ; 0.001 )', 'Fluctuations in ambient temperature are inversely correlated to changes in AFI']\n"
     ]
    }
   ],
   "source": [
    "# Test sentence extraction from dataset\n",
    "test_sent = content_extract(file_path='/content/drive/MyDrive/Syntactic_processing/test_sent',sep='\\n')"
   ]
  },
  {
   "cell_type": "code",
   "execution_count": 12,
   "metadata": {
    "colab": {
     "base_uri": "https://localhost:8080/"
    },
    "id": "7I2y_Il4sLUh",
    "outputId": "6266036f-75cd-43f1-ba17-297ee3bbc8eb"
   },
   "outputs": [
    {
     "name": "stdout",
     "output_type": "stream",
     "text": [
      "Total identified value:  1056 \n",
      "\n",
      "Sample display value:\n",
      " ['O O O O O O O O O O O O O O O O O O O O O O O O O O O O O O O O O O O O O O O O O O O O', 'O O O O O O O O O O O O O O O O O O O', 'O O O O O O O O O O O O O O O O O O O O O O O O', 'O O O O O O O O O O O O O O O O O O O O O O O O O O O O O O O O O O O O O O', 'O O O O O O O O O O O']\n"
     ]
    }
   ],
   "source": [
    "# Test label extraction from dataset\n",
    "test_label = content_extract(file_path='/content/drive/MyDrive/Syntactic_processing/test_label',sep='\\n')"
   ]
  },
  {
   "cell_type": "markdown",
   "metadata": {
    "id": "twfAZOvisVaZ"
   },
   "source": [
    "**Extract POS information using SpaCy**"
   ]
  },
  {
   "cell_type": "code",
   "execution_count": 13,
   "metadata": {
    "id": "VfL0a2qOsZag"
   },
   "outputs": [],
   "source": [
    "# Import spacy small library to find medical related entities\n",
    "nlp= spacy.load(\"en_core_web_sm\")"
   ]
  },
  {
   "cell_type": "code",
   "execution_count": 14,
   "metadata": {
    "id": "-MAZDC-Dsfgt"
   },
   "outputs": [],
   "source": [
    "# Dataframe of POS tagging,Lemma word and Label for Train and test sentence\n",
    "train_df = pd.DataFrame(columns=['sentence','word','lemma','pos','label'])\n",
    "test_df = pd.DataFrame(columns=['sentence','word','lemma','pos','label'])"
   ]
  },
  {
   "cell_type": "code",
   "execution_count": 15,
   "metadata": {
    "id": "hOBRi_Ndsis4"
   },
   "outputs": [],
   "source": [
    "#train datframe\n",
    "\n",
    "i=0 #Sentence count\n",
    "j=0 #Iteration count\n",
    "\n",
    "for sent,label in zip(train_sent,train_label):\n",
    "    i+=1\n",
    "    for s,l in zip(sent.split(),label.split()):\n",
    "        doc = nlp(s)\n",
    "        for tok in doc:\n",
    "            train_df.loc[j,['sentence','word','lemma','pos','label']] = [i,tok.text,tok.lemma_,tok.pos_,l]\n",
    "            j+=1"
   ]
  },
  {
   "cell_type": "code",
   "execution_count": 16,
   "metadata": {
    "id": "OWS_VavbvYbK"
   },
   "outputs": [],
   "source": [
    "#test datframe\n",
    "\n",
    "i=0 #Sentence count\n",
    "j=0 #Iteration count\n",
    "\n",
    "for sent,label in zip(test_sent,test_label):\n",
    "    i+=1\n",
    "    for s,l in zip(sent.split(),label.split()):\n",
    "        doc = nlp(s)\n",
    "        for tok in doc:\n",
    "            test_df.loc[j,['sentence','word','lemma','pos','label']] = [i,tok.text,tok.lemma_,tok.pos_,l]\n",
    "            j+=1"
   ]
  },
  {
   "cell_type": "markdown",
   "metadata": {
    "id": "g5asdYiGw77l"
   },
   "source": [
    "**Frequence of words for POS tag as NOUN & PROPN**"
   ]
  },
  {
   "cell_type": "code",
   "execution_count": 17,
   "metadata": {
    "id": "WHKrnATtw8oT"
   },
   "outputs": [],
   "source": [
    "# Word and it's frequency for word which contains NOUN or PROPN as POS tagging\n",
    "freq_df = pd.DataFrame()\n",
    "freq_df = pd.concat((train_df,test_df),axis=0)"
   ]
  },
  {
   "cell_type": "code",
   "execution_count": 18,
   "metadata": {
    "id": "xKdkliBZxDVI"
   },
   "outputs": [],
   "source": [
    "# Resetting index\n",
    "freq_df.reset_index(inplace=True,drop=True)"
   ]
  },
  {
   "cell_type": "code",
   "execution_count": 19,
   "metadata": {
    "colab": {
     "base_uri": "https://localhost:8080/"
    },
    "id": "SpMprEdFxHQ-",
    "outputId": "785ccf3a-a587-4174-e7df-65617e1dce60"
   },
   "outputs": [
    {
     "data": {
      "text/plain": [
       "word\n",
       "patients        492\n",
       "treatment       281\n",
       "cancer          200\n",
       "therapy         175\n",
       "disease         143\n",
       "cell            140\n",
       "lung            116\n",
       "group            94\n",
       "gene             88\n",
       "chemotherapy     88\n",
       "effects          85\n",
       "results          79\n",
       "women            77\n",
       "patient          75\n",
       "TO_SEE           75\n",
       "surgery          71\n",
       "risk             71\n",
       "cases            71\n",
       "analysis         70\n",
       "human            67\n",
       "rate             67\n",
       "response         66\n",
       "survival         65\n",
       "children         64\n",
       "effect           64\n",
       "Name: count, dtype: int64"
      ]
     },
     "execution_count": 19,
     "metadata": {},
     "output_type": "execute_result"
    }
   ],
   "source": [
    "# Top 25 most frequency values for Train and Test related dataset words\n",
    "freq_df[(freq_df['pos'] == 'NOUN') | ((freq_df['pos'] == 'PROPN'))]['word'].value_counts()[:25]"
   ]
  },
  {
   "cell_type": "code",
   "execution_count": 20,
   "metadata": {
    "colab": {
     "base_uri": "https://localhost:8080/"
    },
    "id": "K-3Wm9YyxONW",
    "outputId": "b2f6f9fd-ee88-4612-83f0-8629143981f8"
   },
   "outputs": [
    {
     "data": {
      "text/plain": [
       "lemma\n",
       "patient         587\n",
       "treatment       316\n",
       "cancer          226\n",
       "cell            203\n",
       "therapy         182\n",
       "disease         172\n",
       "effect          163\n",
       "case            132\n",
       "group           128\n",
       "lung            120\n",
       "result          118\n",
       "gene            112\n",
       "year            105\n",
       "rate            102\n",
       "trial            91\n",
       "chemotherapy     91\n",
       "woman            89\n",
       "analysis         86\n",
       "protein          82\n",
       "response         81\n",
       "risk             78\n",
       "child            78\n",
       "human            77\n",
       "TO_SEE           75\n",
       "mutation         75\n",
       "Name: count, dtype: int64"
      ]
     },
     "execution_count": 20,
     "metadata": {},
     "output_type": "execute_result"
    }
   ],
   "source": [
    "# Top 25 most frequency values for Train and Test related lemma words\n",
    "freq_df[(freq_df['pos'] == 'NOUN') | ((freq_df['pos'] == 'PROPN'))]['lemma'].value_counts()[:25]"
   ]
  },
  {
   "cell_type": "markdown",
   "metadata": {
    "id": "a98T6H1CxYEF"
   },
   "source": [
    "Dataframe (Sentence, word, POS) visualisation"
   ]
  },
  {
   "cell_type": "code",
   "execution_count": 21,
   "metadata": {
    "colab": {
     "base_uri": "https://localhost:8080/",
     "height": 206
    },
    "id": "j06-LJbpxZtE",
    "outputId": "12024b81-30a9-42dc-e8c7-5b131e42f5aa"
   },
   "outputs": [
    {
     "data": {
      "application/vnd.google.colaboratory.intrinsic+json": {
       "summary": "{\n  \"name\": \"train_df\",\n  \"rows\": 48324,\n  \"fields\": [\n    {\n      \"column\": \"sentence\",\n      \"properties\": {\n        \"dtype\": \"date\",\n        \"min\": 1,\n        \"max\": 2599,\n        \"num_unique_values\": 2599,\n        \"samples\": [\n          1594,\n          197,\n          240\n        ],\n        \"semantic_type\": \"\",\n        \"description\": \"\"\n      }\n    },\n    {\n      \"column\": \"word\",\n      \"properties\": {\n        \"dtype\": \"category\",\n        \"num_unique_values\": 8978,\n        \"samples\": [\n          \"orf31\",\n          \"groups\",\n          \"Olanzapine\"\n        ],\n        \"semantic_type\": \"\",\n        \"description\": \"\"\n      }\n    },\n    {\n      \"column\": \"lemma\",\n      \"properties\": {\n        \"dtype\": \"category\",\n        \"num_unique_values\": 7103,\n        \"samples\": [\n          \"77\",\n          \"colorimetric\",\n          \"carboxylate\"\n        ],\n        \"semantic_type\": \"\",\n        \"description\": \"\"\n      }\n    },\n    {\n      \"column\": \"pos\",\n      \"properties\": {\n        \"dtype\": \"category\",\n        \"num_unique_values\": 17,\n        \"samples\": [\n          \"PRON\",\n          \"VERB\",\n          \"NUM\"\n        ],\n        \"semantic_type\": \"\",\n        \"description\": \"\"\n      }\n    },\n    {\n      \"column\": \"label\",\n      \"properties\": {\n        \"dtype\": \"category\",\n        \"num_unique_values\": 3,\n        \"samples\": [\n          \"O\",\n          \"D\",\n          \"T\"\n        ],\n        \"semantic_type\": \"\",\n        \"description\": \"\"\n      }\n    }\n  ]\n}",
       "type": "dataframe",
       "variable_name": "train_df"
      },
      "text/html": [
       "\n",
       "  <div id=\"df-38fd022f-6aec-4a20-b761-050d59838579\" class=\"colab-df-container\">\n",
       "    <div>\n",
       "<style scoped>\n",
       "    .dataframe tbody tr th:only-of-type {\n",
       "        vertical-align: middle;\n",
       "    }\n",
       "\n",
       "    .dataframe tbody tr th {\n",
       "        vertical-align: top;\n",
       "    }\n",
       "\n",
       "    .dataframe thead th {\n",
       "        text-align: right;\n",
       "    }\n",
       "</style>\n",
       "<table border=\"1\" class=\"dataframe\">\n",
       "  <thead>\n",
       "    <tr style=\"text-align: right;\">\n",
       "      <th></th>\n",
       "      <th>sentence</th>\n",
       "      <th>word</th>\n",
       "      <th>lemma</th>\n",
       "      <th>pos</th>\n",
       "      <th>label</th>\n",
       "    </tr>\n",
       "  </thead>\n",
       "  <tbody>\n",
       "    <tr>\n",
       "      <th>0</th>\n",
       "      <td>1</td>\n",
       "      <td>All</td>\n",
       "      <td>all</td>\n",
       "      <td>PRON</td>\n",
       "      <td>O</td>\n",
       "    </tr>\n",
       "    <tr>\n",
       "      <th>1</th>\n",
       "      <td>1</td>\n",
       "      <td>live</td>\n",
       "      <td>live</td>\n",
       "      <td>VERB</td>\n",
       "      <td>O</td>\n",
       "    </tr>\n",
       "    <tr>\n",
       "      <th>2</th>\n",
       "      <td>1</td>\n",
       "      <td>births</td>\n",
       "      <td>birth</td>\n",
       "      <td>NOUN</td>\n",
       "      <td>O</td>\n",
       "    </tr>\n",
       "    <tr>\n",
       "      <th>3</th>\n",
       "      <td>1</td>\n",
       "      <td>&gt;</td>\n",
       "      <td>&gt;</td>\n",
       "      <td>PUNCT</td>\n",
       "      <td>O</td>\n",
       "    </tr>\n",
       "    <tr>\n",
       "      <th>4</th>\n",
       "      <td>1</td>\n",
       "      <td>or</td>\n",
       "      <td>or</td>\n",
       "      <td>CCONJ</td>\n",
       "      <td>O</td>\n",
       "    </tr>\n",
       "  </tbody>\n",
       "</table>\n",
       "</div>\n",
       "    <div class=\"colab-df-buttons\">\n",
       "\n",
       "  <div class=\"colab-df-container\">\n",
       "    <button class=\"colab-df-convert\" onclick=\"convertToInteractive('df-38fd022f-6aec-4a20-b761-050d59838579')\"\n",
       "            title=\"Convert this dataframe to an interactive table.\"\n",
       "            style=\"display:none;\">\n",
       "\n",
       "  <svg xmlns=\"http://www.w3.org/2000/svg\" height=\"24px\" viewBox=\"0 -960 960 960\">\n",
       "    <path d=\"M120-120v-720h720v720H120Zm60-500h600v-160H180v160Zm220 220h160v-160H400v160Zm0 220h160v-160H400v160ZM180-400h160v-160H180v160Zm440 0h160v-160H620v160ZM180-180h160v-160H180v160Zm440 0h160v-160H620v160Z\"/>\n",
       "  </svg>\n",
       "    </button>\n",
       "\n",
       "  <style>\n",
       "    .colab-df-container {\n",
       "      display:flex;\n",
       "      gap: 12px;\n",
       "    }\n",
       "\n",
       "    .colab-df-convert {\n",
       "      background-color: #E8F0FE;\n",
       "      border: none;\n",
       "      border-radius: 50%;\n",
       "      cursor: pointer;\n",
       "      display: none;\n",
       "      fill: #1967D2;\n",
       "      height: 32px;\n",
       "      padding: 0 0 0 0;\n",
       "      width: 32px;\n",
       "    }\n",
       "\n",
       "    .colab-df-convert:hover {\n",
       "      background-color: #E2EBFA;\n",
       "      box-shadow: 0px 1px 2px rgba(60, 64, 67, 0.3), 0px 1px 3px 1px rgba(60, 64, 67, 0.15);\n",
       "      fill: #174EA6;\n",
       "    }\n",
       "\n",
       "    .colab-df-buttons div {\n",
       "      margin-bottom: 4px;\n",
       "    }\n",
       "\n",
       "    [theme=dark] .colab-df-convert {\n",
       "      background-color: #3B4455;\n",
       "      fill: #D2E3FC;\n",
       "    }\n",
       "\n",
       "    [theme=dark] .colab-df-convert:hover {\n",
       "      background-color: #434B5C;\n",
       "      box-shadow: 0px 1px 3px 1px rgba(0, 0, 0, 0.15);\n",
       "      filter: drop-shadow(0px 1px 2px rgba(0, 0, 0, 0.3));\n",
       "      fill: #FFFFFF;\n",
       "    }\n",
       "  </style>\n",
       "\n",
       "    <script>\n",
       "      const buttonEl =\n",
       "        document.querySelector('#df-38fd022f-6aec-4a20-b761-050d59838579 button.colab-df-convert');\n",
       "      buttonEl.style.display =\n",
       "        google.colab.kernel.accessAllowed ? 'block' : 'none';\n",
       "\n",
       "      async function convertToInteractive(key) {\n",
       "        const element = document.querySelector('#df-38fd022f-6aec-4a20-b761-050d59838579');\n",
       "        const dataTable =\n",
       "          await google.colab.kernel.invokeFunction('convertToInteractive',\n",
       "                                                    [key], {});\n",
       "        if (!dataTable) return;\n",
       "\n",
       "        const docLinkHtml = 'Like what you see? Visit the ' +\n",
       "          '<a target=\"_blank\" href=https://colab.research.google.com/notebooks/data_table.ipynb>data table notebook</a>'\n",
       "          + ' to learn more about interactive tables.';\n",
       "        element.innerHTML = '';\n",
       "        dataTable['output_type'] = 'display_data';\n",
       "        await google.colab.output.renderOutput(dataTable, element);\n",
       "        const docLink = document.createElement('div');\n",
       "        docLink.innerHTML = docLinkHtml;\n",
       "        element.appendChild(docLink);\n",
       "      }\n",
       "    </script>\n",
       "  </div>\n",
       "\n",
       "\n",
       "<div id=\"df-980c5b32-dc9e-4d61-a951-09494fe2511f\">\n",
       "  <button class=\"colab-df-quickchart\" onclick=\"quickchart('df-980c5b32-dc9e-4d61-a951-09494fe2511f')\"\n",
       "            title=\"Suggest charts\"\n",
       "            style=\"display:none;\">\n",
       "\n",
       "<svg xmlns=\"http://www.w3.org/2000/svg\" height=\"24px\"viewBox=\"0 0 24 24\"\n",
       "     width=\"24px\">\n",
       "    <g>\n",
       "        <path d=\"M19 3H5c-1.1 0-2 .9-2 2v14c0 1.1.9 2 2 2h14c1.1 0 2-.9 2-2V5c0-1.1-.9-2-2-2zM9 17H7v-7h2v7zm4 0h-2V7h2v10zm4 0h-2v-4h2v4z\"/>\n",
       "    </g>\n",
       "</svg>\n",
       "  </button>\n",
       "\n",
       "<style>\n",
       "  .colab-df-quickchart {\n",
       "      --bg-color: #E8F0FE;\n",
       "      --fill-color: #1967D2;\n",
       "      --hover-bg-color: #E2EBFA;\n",
       "      --hover-fill-color: #174EA6;\n",
       "      --disabled-fill-color: #AAA;\n",
       "      --disabled-bg-color: #DDD;\n",
       "  }\n",
       "\n",
       "  [theme=dark] .colab-df-quickchart {\n",
       "      --bg-color: #3B4455;\n",
       "      --fill-color: #D2E3FC;\n",
       "      --hover-bg-color: #434B5C;\n",
       "      --hover-fill-color: #FFFFFF;\n",
       "      --disabled-bg-color: #3B4455;\n",
       "      --disabled-fill-color: #666;\n",
       "  }\n",
       "\n",
       "  .colab-df-quickchart {\n",
       "    background-color: var(--bg-color);\n",
       "    border: none;\n",
       "    border-radius: 50%;\n",
       "    cursor: pointer;\n",
       "    display: none;\n",
       "    fill: var(--fill-color);\n",
       "    height: 32px;\n",
       "    padding: 0;\n",
       "    width: 32px;\n",
       "  }\n",
       "\n",
       "  .colab-df-quickchart:hover {\n",
       "    background-color: var(--hover-bg-color);\n",
       "    box-shadow: 0 1px 2px rgba(60, 64, 67, 0.3), 0 1px 3px 1px rgba(60, 64, 67, 0.15);\n",
       "    fill: var(--button-hover-fill-color);\n",
       "  }\n",
       "\n",
       "  .colab-df-quickchart-complete:disabled,\n",
       "  .colab-df-quickchart-complete:disabled:hover {\n",
       "    background-color: var(--disabled-bg-color);\n",
       "    fill: var(--disabled-fill-color);\n",
       "    box-shadow: none;\n",
       "  }\n",
       "\n",
       "  .colab-df-spinner {\n",
       "    border: 2px solid var(--fill-color);\n",
       "    border-color: transparent;\n",
       "    border-bottom-color: var(--fill-color);\n",
       "    animation:\n",
       "      spin 1s steps(1) infinite;\n",
       "  }\n",
       "\n",
       "  @keyframes spin {\n",
       "    0% {\n",
       "      border-color: transparent;\n",
       "      border-bottom-color: var(--fill-color);\n",
       "      border-left-color: var(--fill-color);\n",
       "    }\n",
       "    20% {\n",
       "      border-color: transparent;\n",
       "      border-left-color: var(--fill-color);\n",
       "      border-top-color: var(--fill-color);\n",
       "    }\n",
       "    30% {\n",
       "      border-color: transparent;\n",
       "      border-left-color: var(--fill-color);\n",
       "      border-top-color: var(--fill-color);\n",
       "      border-right-color: var(--fill-color);\n",
       "    }\n",
       "    40% {\n",
       "      border-color: transparent;\n",
       "      border-right-color: var(--fill-color);\n",
       "      border-top-color: var(--fill-color);\n",
       "    }\n",
       "    60% {\n",
       "      border-color: transparent;\n",
       "      border-right-color: var(--fill-color);\n",
       "    }\n",
       "    80% {\n",
       "      border-color: transparent;\n",
       "      border-right-color: var(--fill-color);\n",
       "      border-bottom-color: var(--fill-color);\n",
       "    }\n",
       "    90% {\n",
       "      border-color: transparent;\n",
       "      border-bottom-color: var(--fill-color);\n",
       "    }\n",
       "  }\n",
       "</style>\n",
       "\n",
       "  <script>\n",
       "    async function quickchart(key) {\n",
       "      const quickchartButtonEl =\n",
       "        document.querySelector('#' + key + ' button');\n",
       "      quickchartButtonEl.disabled = true;  // To prevent multiple clicks.\n",
       "      quickchartButtonEl.classList.add('colab-df-spinner');\n",
       "      try {\n",
       "        const charts = await google.colab.kernel.invokeFunction(\n",
       "            'suggestCharts', [key], {});\n",
       "      } catch (error) {\n",
       "        console.error('Error during call to suggestCharts:', error);\n",
       "      }\n",
       "      quickchartButtonEl.classList.remove('colab-df-spinner');\n",
       "      quickchartButtonEl.classList.add('colab-df-quickchart-complete');\n",
       "    }\n",
       "    (() => {\n",
       "      let quickchartButtonEl =\n",
       "        document.querySelector('#df-980c5b32-dc9e-4d61-a951-09494fe2511f button');\n",
       "      quickchartButtonEl.style.display =\n",
       "        google.colab.kernel.accessAllowed ? 'block' : 'none';\n",
       "    })();\n",
       "  </script>\n",
       "</div>\n",
       "\n",
       "    </div>\n",
       "  </div>\n"
      ],
      "text/plain": [
       "  sentence    word  lemma    pos label\n",
       "0        1     All    all   PRON     O\n",
       "1        1    live   live   VERB     O\n",
       "2        1  births  birth   NOUN     O\n",
       "3        1       >      >  PUNCT     O\n",
       "4        1      or     or  CCONJ     O"
      ]
     },
     "execution_count": 21,
     "metadata": {},
     "output_type": "execute_result"
    }
   ],
   "source": [
    "train_df.head(5)"
   ]
  },
  {
   "cell_type": "code",
   "execution_count": 22,
   "metadata": {
    "colab": {
     "base_uri": "https://localhost:8080/",
     "height": 206
    },
    "id": "8j5sTTZ0xhpF",
    "outputId": "b62bf46e-c700-4e1a-cbb5-65ea7560498b"
   },
   "outputs": [
    {
     "data": {
      "application/vnd.google.colaboratory.intrinsic+json": {
       "summary": "{\n  \"name\": \"test_df\",\n  \"rows\": 19583,\n  \"fields\": [\n    {\n      \"column\": \"sentence\",\n      \"properties\": {\n        \"dtype\": \"date\",\n        \"min\": 1,\n        \"max\": 1056,\n        \"num_unique_values\": 1056,\n        \"samples\": [\n          261,\n          833,\n          847\n        ],\n        \"semantic_type\": \"\",\n        \"description\": \"\"\n      }\n    },\n    {\n      \"column\": \"word\",\n      \"properties\": {\n        \"dtype\": \"category\",\n        \"num_unique_values\": 5231,\n        \"samples\": [\n          \"equipment\",\n          \"14\",\n          \"sunlight\"\n        ],\n        \"semantic_type\": \"\",\n        \"description\": \"\"\n      }\n    },\n    {\n      \"column\": \"lemma\",\n      \"properties\": {\n        \"dtype\": \"category\",\n        \"num_unique_values\": 4324,\n        \"samples\": [\n          \"UA\",\n          \"or\",\n          \"tracheobronchus\"\n        ],\n        \"semantic_type\": \"\",\n        \"description\": \"\"\n      }\n    },\n    {\n      \"column\": \"pos\",\n      \"properties\": {\n        \"dtype\": \"category\",\n        \"num_unique_values\": 17,\n        \"samples\": [\n          \"ADV\",\n          \"PUNCT\",\n          \"AUX\"\n        ],\n        \"semantic_type\": \"\",\n        \"description\": \"\"\n      }\n    },\n    {\n      \"column\": \"label\",\n      \"properties\": {\n        \"dtype\": \"category\",\n        \"num_unique_values\": 3,\n        \"samples\": [\n          \"O\",\n          \"D\",\n          \"T\"\n        ],\n        \"semantic_type\": \"\",\n        \"description\": \"\"\n      }\n    }\n  ]\n}",
       "type": "dataframe",
       "variable_name": "test_df"
      },
      "text/html": [
       "\n",
       "  <div id=\"df-98849bd7-2fe0-4cf7-93cf-9377a4fa2d1e\" class=\"colab-df-container\">\n",
       "    <div>\n",
       "<style scoped>\n",
       "    .dataframe tbody tr th:only-of-type {\n",
       "        vertical-align: middle;\n",
       "    }\n",
       "\n",
       "    .dataframe tbody tr th {\n",
       "        vertical-align: top;\n",
       "    }\n",
       "\n",
       "    .dataframe thead th {\n",
       "        text-align: right;\n",
       "    }\n",
       "</style>\n",
       "<table border=\"1\" class=\"dataframe\">\n",
       "  <thead>\n",
       "    <tr style=\"text-align: right;\">\n",
       "      <th></th>\n",
       "      <th>sentence</th>\n",
       "      <th>word</th>\n",
       "      <th>lemma</th>\n",
       "      <th>pos</th>\n",
       "      <th>label</th>\n",
       "    </tr>\n",
       "  </thead>\n",
       "  <tbody>\n",
       "    <tr>\n",
       "      <th>0</th>\n",
       "      <td>1</td>\n",
       "      <td>Furthermore</td>\n",
       "      <td>furthermore</td>\n",
       "      <td>ADV</td>\n",
       "      <td>O</td>\n",
       "    </tr>\n",
       "    <tr>\n",
       "      <th>1</th>\n",
       "      <td>1</td>\n",
       "      <td>,</td>\n",
       "      <td>,</td>\n",
       "      <td>PUNCT</td>\n",
       "      <td>O</td>\n",
       "    </tr>\n",
       "    <tr>\n",
       "      <th>2</th>\n",
       "      <td>1</td>\n",
       "      <td>when</td>\n",
       "      <td>when</td>\n",
       "      <td>SCONJ</td>\n",
       "      <td>O</td>\n",
       "    </tr>\n",
       "    <tr>\n",
       "      <th>3</th>\n",
       "      <td>1</td>\n",
       "      <td>all</td>\n",
       "      <td>all</td>\n",
       "      <td>PRON</td>\n",
       "      <td>O</td>\n",
       "    </tr>\n",
       "    <tr>\n",
       "      <th>4</th>\n",
       "      <td>1</td>\n",
       "      <td>deliveries</td>\n",
       "      <td>delivery</td>\n",
       "      <td>NOUN</td>\n",
       "      <td>O</td>\n",
       "    </tr>\n",
       "  </tbody>\n",
       "</table>\n",
       "</div>\n",
       "    <div class=\"colab-df-buttons\">\n",
       "\n",
       "  <div class=\"colab-df-container\">\n",
       "    <button class=\"colab-df-convert\" onclick=\"convertToInteractive('df-98849bd7-2fe0-4cf7-93cf-9377a4fa2d1e')\"\n",
       "            title=\"Convert this dataframe to an interactive table.\"\n",
       "            style=\"display:none;\">\n",
       "\n",
       "  <svg xmlns=\"http://www.w3.org/2000/svg\" height=\"24px\" viewBox=\"0 -960 960 960\">\n",
       "    <path d=\"M120-120v-720h720v720H120Zm60-500h600v-160H180v160Zm220 220h160v-160H400v160Zm0 220h160v-160H400v160ZM180-400h160v-160H180v160Zm440 0h160v-160H620v160ZM180-180h160v-160H180v160Zm440 0h160v-160H620v160Z\"/>\n",
       "  </svg>\n",
       "    </button>\n",
       "\n",
       "  <style>\n",
       "    .colab-df-container {\n",
       "      display:flex;\n",
       "      gap: 12px;\n",
       "    }\n",
       "\n",
       "    .colab-df-convert {\n",
       "      background-color: #E8F0FE;\n",
       "      border: none;\n",
       "      border-radius: 50%;\n",
       "      cursor: pointer;\n",
       "      display: none;\n",
       "      fill: #1967D2;\n",
       "      height: 32px;\n",
       "      padding: 0 0 0 0;\n",
       "      width: 32px;\n",
       "    }\n",
       "\n",
       "    .colab-df-convert:hover {\n",
       "      background-color: #E2EBFA;\n",
       "      box-shadow: 0px 1px 2px rgba(60, 64, 67, 0.3), 0px 1px 3px 1px rgba(60, 64, 67, 0.15);\n",
       "      fill: #174EA6;\n",
       "    }\n",
       "\n",
       "    .colab-df-buttons div {\n",
       "      margin-bottom: 4px;\n",
       "    }\n",
       "\n",
       "    [theme=dark] .colab-df-convert {\n",
       "      background-color: #3B4455;\n",
       "      fill: #D2E3FC;\n",
       "    }\n",
       "\n",
       "    [theme=dark] .colab-df-convert:hover {\n",
       "      background-color: #434B5C;\n",
       "      box-shadow: 0px 1px 3px 1px rgba(0, 0, 0, 0.15);\n",
       "      filter: drop-shadow(0px 1px 2px rgba(0, 0, 0, 0.3));\n",
       "      fill: #FFFFFF;\n",
       "    }\n",
       "  </style>\n",
       "\n",
       "    <script>\n",
       "      const buttonEl =\n",
       "        document.querySelector('#df-98849bd7-2fe0-4cf7-93cf-9377a4fa2d1e button.colab-df-convert');\n",
       "      buttonEl.style.display =\n",
       "        google.colab.kernel.accessAllowed ? 'block' : 'none';\n",
       "\n",
       "      async function convertToInteractive(key) {\n",
       "        const element = document.querySelector('#df-98849bd7-2fe0-4cf7-93cf-9377a4fa2d1e');\n",
       "        const dataTable =\n",
       "          await google.colab.kernel.invokeFunction('convertToInteractive',\n",
       "                                                    [key], {});\n",
       "        if (!dataTable) return;\n",
       "\n",
       "        const docLinkHtml = 'Like what you see? Visit the ' +\n",
       "          '<a target=\"_blank\" href=https://colab.research.google.com/notebooks/data_table.ipynb>data table notebook</a>'\n",
       "          + ' to learn more about interactive tables.';\n",
       "        element.innerHTML = '';\n",
       "        dataTable['output_type'] = 'display_data';\n",
       "        await google.colab.output.renderOutput(dataTable, element);\n",
       "        const docLink = document.createElement('div');\n",
       "        docLink.innerHTML = docLinkHtml;\n",
       "        element.appendChild(docLink);\n",
       "      }\n",
       "    </script>\n",
       "  </div>\n",
       "\n",
       "\n",
       "<div id=\"df-c31f4925-4f69-4b0c-b581-b3db80cdd30f\">\n",
       "  <button class=\"colab-df-quickchart\" onclick=\"quickchart('df-c31f4925-4f69-4b0c-b581-b3db80cdd30f')\"\n",
       "            title=\"Suggest charts\"\n",
       "            style=\"display:none;\">\n",
       "\n",
       "<svg xmlns=\"http://www.w3.org/2000/svg\" height=\"24px\"viewBox=\"0 0 24 24\"\n",
       "     width=\"24px\">\n",
       "    <g>\n",
       "        <path d=\"M19 3H5c-1.1 0-2 .9-2 2v14c0 1.1.9 2 2 2h14c1.1 0 2-.9 2-2V5c0-1.1-.9-2-2-2zM9 17H7v-7h2v7zm4 0h-2V7h2v10zm4 0h-2v-4h2v4z\"/>\n",
       "    </g>\n",
       "</svg>\n",
       "  </button>\n",
       "\n",
       "<style>\n",
       "  .colab-df-quickchart {\n",
       "      --bg-color: #E8F0FE;\n",
       "      --fill-color: #1967D2;\n",
       "      --hover-bg-color: #E2EBFA;\n",
       "      --hover-fill-color: #174EA6;\n",
       "      --disabled-fill-color: #AAA;\n",
       "      --disabled-bg-color: #DDD;\n",
       "  }\n",
       "\n",
       "  [theme=dark] .colab-df-quickchart {\n",
       "      --bg-color: #3B4455;\n",
       "      --fill-color: #D2E3FC;\n",
       "      --hover-bg-color: #434B5C;\n",
       "      --hover-fill-color: #FFFFFF;\n",
       "      --disabled-bg-color: #3B4455;\n",
       "      --disabled-fill-color: #666;\n",
       "  }\n",
       "\n",
       "  .colab-df-quickchart {\n",
       "    background-color: var(--bg-color);\n",
       "    border: none;\n",
       "    border-radius: 50%;\n",
       "    cursor: pointer;\n",
       "    display: none;\n",
       "    fill: var(--fill-color);\n",
       "    height: 32px;\n",
       "    padding: 0;\n",
       "    width: 32px;\n",
       "  }\n",
       "\n",
       "  .colab-df-quickchart:hover {\n",
       "    background-color: var(--hover-bg-color);\n",
       "    box-shadow: 0 1px 2px rgba(60, 64, 67, 0.3), 0 1px 3px 1px rgba(60, 64, 67, 0.15);\n",
       "    fill: var(--button-hover-fill-color);\n",
       "  }\n",
       "\n",
       "  .colab-df-quickchart-complete:disabled,\n",
       "  .colab-df-quickchart-complete:disabled:hover {\n",
       "    background-color: var(--disabled-bg-color);\n",
       "    fill: var(--disabled-fill-color);\n",
       "    box-shadow: none;\n",
       "  }\n",
       "\n",
       "  .colab-df-spinner {\n",
       "    border: 2px solid var(--fill-color);\n",
       "    border-color: transparent;\n",
       "    border-bottom-color: var(--fill-color);\n",
       "    animation:\n",
       "      spin 1s steps(1) infinite;\n",
       "  }\n",
       "\n",
       "  @keyframes spin {\n",
       "    0% {\n",
       "      border-color: transparent;\n",
       "      border-bottom-color: var(--fill-color);\n",
       "      border-left-color: var(--fill-color);\n",
       "    }\n",
       "    20% {\n",
       "      border-color: transparent;\n",
       "      border-left-color: var(--fill-color);\n",
       "      border-top-color: var(--fill-color);\n",
       "    }\n",
       "    30% {\n",
       "      border-color: transparent;\n",
       "      border-left-color: var(--fill-color);\n",
       "      border-top-color: var(--fill-color);\n",
       "      border-right-color: var(--fill-color);\n",
       "    }\n",
       "    40% {\n",
       "      border-color: transparent;\n",
       "      border-right-color: var(--fill-color);\n",
       "      border-top-color: var(--fill-color);\n",
       "    }\n",
       "    60% {\n",
       "      border-color: transparent;\n",
       "      border-right-color: var(--fill-color);\n",
       "    }\n",
       "    80% {\n",
       "      border-color: transparent;\n",
       "      border-right-color: var(--fill-color);\n",
       "      border-bottom-color: var(--fill-color);\n",
       "    }\n",
       "    90% {\n",
       "      border-color: transparent;\n",
       "      border-bottom-color: var(--fill-color);\n",
       "    }\n",
       "  }\n",
       "</style>\n",
       "\n",
       "  <script>\n",
       "    async function quickchart(key) {\n",
       "      const quickchartButtonEl =\n",
       "        document.querySelector('#' + key + ' button');\n",
       "      quickchartButtonEl.disabled = true;  // To prevent multiple clicks.\n",
       "      quickchartButtonEl.classList.add('colab-df-spinner');\n",
       "      try {\n",
       "        const charts = await google.colab.kernel.invokeFunction(\n",
       "            'suggestCharts', [key], {});\n",
       "      } catch (error) {\n",
       "        console.error('Error during call to suggestCharts:', error);\n",
       "      }\n",
       "      quickchartButtonEl.classList.remove('colab-df-spinner');\n",
       "      quickchartButtonEl.classList.add('colab-df-quickchart-complete');\n",
       "    }\n",
       "    (() => {\n",
       "      let quickchartButtonEl =\n",
       "        document.querySelector('#df-c31f4925-4f69-4b0c-b581-b3db80cdd30f button');\n",
       "      quickchartButtonEl.style.display =\n",
       "        google.colab.kernel.accessAllowed ? 'block' : 'none';\n",
       "    })();\n",
       "  </script>\n",
       "</div>\n",
       "\n",
       "    </div>\n",
       "  </div>\n"
      ],
      "text/plain": [
       "  sentence         word        lemma    pos label\n",
       "0        1  Furthermore  furthermore    ADV     O\n",
       "1        1            ,            ,  PUNCT     O\n",
       "2        1         when         when  SCONJ     O\n",
       "3        1          all          all   PRON     O\n",
       "4        1   deliveries     delivery   NOUN     O"
      ]
     },
     "execution_count": 22,
     "metadata": {},
     "output_type": "execute_result"
    }
   ],
   "source": [
    "test_df.head(5)"
   ]
  },
  {
   "cell_type": "markdown",
   "metadata": {
    "id": "ToL1iyyDxnFS"
   },
   "source": [
    "**Sentense-wise detail dataframe preparation**"
   ]
  },
  {
   "cell_type": "code",
   "execution_count": 23,
   "metadata": {
    "id": "oRRU7QnGxn71"
   },
   "outputs": [],
   "source": [
    "# Fetch detail view of sentence for train set\n",
    "train_sent_obj = sentencedetail(train_df)\n",
    "train_sent_detail = train_sent_obj.sentences"
   ]
  },
  {
   "cell_type": "code",
   "execution_count": 24,
   "metadata": {
    "colab": {
     "base_uri": "https://localhost:8080/"
    },
    "id": "wMw6p3k3xuP0",
    "outputId": "9df699e1-3ee2-4306-d39b-d4035f3c3c2d"
   },
   "outputs": [
    {
     "data": {
      "text/plain": [
       "[('All', 'PRON', 'O'),\n",
       " ('live', 'VERB', 'O'),\n",
       " ('births', 'NOUN', 'O'),\n",
       " ('>', 'PUNCT', 'O'),\n",
       " ('or', 'CCONJ', 'O'),\n",
       " ('=', 'VERB', 'O'),\n",
       " ('23', 'NUM', 'O'),\n",
       " ('weeks', 'NOUN', 'O'),\n",
       " ('at', 'ADP', 'O'),\n",
       " ('the', 'PRON', 'O'),\n",
       " ('University', 'NOUN', 'O'),\n",
       " ('of', 'ADP', 'O'),\n",
       " ('Vermont', 'PROPN', 'O'),\n",
       " ('in', 'ADP', 'O'),\n",
       " ('1995', 'NUM', 'O'),\n",
       " ('(', 'PUNCT', 'O'),\n",
       " ('n', 'CCONJ', 'O'),\n",
       " ('=', 'VERB', 'O'),\n",
       " ('2395', 'NUM', 'O'),\n",
       " (')', 'PUNCT', 'O'),\n",
       " ('were', 'AUX', 'O'),\n",
       " ('retrospectively', 'ADV', 'O'),\n",
       " ('analyzed', 'VERB', 'O'),\n",
       " ('for', 'ADP', 'O'),\n",
       " ('delivery', 'NOUN', 'O'),\n",
       " ('route', 'NOUN', 'O'),\n",
       " (',', 'PUNCT', 'O'),\n",
       " ('indication', 'NOUN', 'O'),\n",
       " ('for', 'ADP', 'O'),\n",
       " ('cesarean', 'VERB', 'O'),\n",
       " (',', 'PUNCT', 'O'),\n",
       " ('gestational', 'ADJ', 'O'),\n",
       " ('age', 'NOUN', 'O'),\n",
       " (',', 'PUNCT', 'O'),\n",
       " ('parity', 'NOUN', 'O'),\n",
       " (',', 'PUNCT', 'O'),\n",
       " ('and', 'CCONJ', 'O'),\n",
       " ('practice', 'VERB', 'O'),\n",
       " ('group', 'NOUN', 'O'),\n",
       " ('(', 'PUNCT', 'O'),\n",
       " ('to', 'PART', 'O'),\n",
       " ('reflect', 'VERB', 'O'),\n",
       " ('risk', 'NOUN', 'O'),\n",
       " ('status', 'NOUN', 'O'),\n",
       " (')', 'PUNCT', 'O')]"
      ]
     },
     "execution_count": 24,
     "metadata": {},
     "output_type": "execute_result"
    }
   ],
   "source": [
    "# Display one sentence detail view for train set\n",
    "train_sent_detail[0]"
   ]
  },
  {
   "cell_type": "code",
   "execution_count": 25,
   "metadata": {
    "id": "iAcXrOirx2SS"
   },
   "outputs": [],
   "source": [
    "# Fetch detail view of sentence for train set\n",
    "test_sent_obj = sentencedetail(test_df)\n",
    "test_sent_detail = test_sent_obj.sentences"
   ]
  },
  {
   "cell_type": "code",
   "execution_count": 26,
   "metadata": {
    "colab": {
     "base_uri": "https://localhost:8080/"
    },
    "id": "B4iWuYRhx52z",
    "outputId": "d23f95fb-a224-4f2c-82b0-df5f2291dfae"
   },
   "outputs": [
    {
     "data": {
      "text/plain": [
       "[('Furthermore', 'ADV', 'O'),\n",
       " (',', 'PUNCT', 'O'),\n",
       " ('when', 'SCONJ', 'O'),\n",
       " ('all', 'PRON', 'O'),\n",
       " ('deliveries', 'NOUN', 'O'),\n",
       " ('were', 'AUX', 'O'),\n",
       " ('analyzed', 'VERB', 'O'),\n",
       " (',', 'PUNCT', 'O'),\n",
       " ('regardless', 'ADV', 'O'),\n",
       " ('of', 'ADP', 'O'),\n",
       " ('risk', 'NOUN', 'O'),\n",
       " ('status', 'NOUN', 'O'),\n",
       " ('but', 'CCONJ', 'O'),\n",
       " ('limited', 'VERB', 'O'),\n",
       " ('to', 'PART', 'O'),\n",
       " ('gestational', 'ADJ', 'O'),\n",
       " ('age', 'NOUN', 'O'),\n",
       " ('>', 'PUNCT', 'O'),\n",
       " ('or', 'CCONJ', 'O'),\n",
       " ('=', 'VERB', 'O'),\n",
       " ('36', 'NUM', 'O'),\n",
       " ('weeks', 'NOUN', 'O'),\n",
       " (',', 'PUNCT', 'O'),\n",
       " ('the', 'PRON', 'O'),\n",
       " ('rates', 'NOUN', 'O'),\n",
       " ('did', 'VERB', 'O'),\n",
       " ('not', 'PART', 'O'),\n",
       " ('change', 'VERB', 'O'),\n",
       " ('(', 'PUNCT', 'O'),\n",
       " ('12.6', 'NUM', 'O'),\n",
       " ('%', 'INTJ', 'O'),\n",
       " (',', 'PUNCT', 'O'),\n",
       " ('280', 'NUM', 'O'),\n",
       " ('of', 'ADP', 'O'),\n",
       " ('2214', 'NUM', 'O'),\n",
       " (';', 'PUNCT', 'O'),\n",
       " ('primary', 'NOUN', 'O'),\n",
       " ('9.2', 'NUM', 'O'),\n",
       " ('%', 'INTJ', 'O'),\n",
       " (',', 'PUNCT', 'O'),\n",
       " ('183', 'NUM', 'O'),\n",
       " ('of', 'ADP', 'O'),\n",
       " ('1994', 'NUM', 'O'),\n",
       " (')', 'PUNCT', 'O')]"
      ]
     },
     "execution_count": 26,
     "metadata": {},
     "output_type": "execute_result"
    }
   ],
   "source": [
    "# Display one sentence detail view for train set\n",
    "test_sent_detail[0]"
   ]
  },
  {
   "cell_type": "markdown",
   "metadata": {
    "id": "OxEf3omdyBI7"
   },
   "source": [
    "**Input and Target Variable**"
   ]
  },
  {
   "cell_type": "code",
   "execution_count": 27,
   "metadata": {
    "id": "eTQ0_99kyCn5"
   },
   "outputs": [],
   "source": [
    "# Prepare X-train and X-test by extracting features from train and test dataset\n",
    "X_train = [sent2features(s) for s in train_sent_detail]\n",
    "X_test = [sent2features(s) for s in test_sent_detail]"
   ]
  },
  {
   "cell_type": "code",
   "execution_count": 28,
   "metadata": {
    "id": "u9TMA-sRyGB9"
   },
   "outputs": [],
   "source": [
    "# Prepare y-train and y-test by extracting labels from train and test dataset\n",
    "y_train = [sent2labels(l) for l in train_sent_detail]\n",
    "y_test = [sent2labels(l) for l in test_sent_detail]"
   ]
  },
  {
   "cell_type": "markdown",
   "metadata": {
    "id": "1g4yc74HyNt8"
   },
   "source": [
    "**Building CRF model using sklearn**"
   ]
  },
  {
   "cell_type": "code",
   "execution_count": 29,
   "metadata": {
    "id": "8pIDx2ZYyOZk"
   },
   "outputs": [],
   "source": [
    "# Build the CRF model.\n",
    "crf = CRF(max_iterations=100, c1=1.0, c2=0.01, all_possible_transitions=False)"
   ]
  },
  {
   "cell_type": "code",
   "execution_count": 30,
   "metadata": {
    "id": "ojF6lyqUy3eM"
   },
   "outputs": [],
   "source": [
    "# fit the model\n",
    "try:\n",
    "    crf.fit(X_train, y_train)\n",
    "except AttributeError:\n",
    "    pass\n",
    "predictions = crf.predict(X_test)"
   ]
  },
  {
   "cell_type": "code",
   "execution_count": 31,
   "metadata": {
    "colab": {
     "base_uri": "https://localhost:8080/"
    },
    "id": "eSa77Fy6yywF",
    "outputId": "84a879d0-f229-4b16-fe7e-b09f18ead70d"
   },
   "outputs": [
    {
     "name": "stdout",
     "output_type": "stream",
     "text": [
      "Predicted F1-score for Medical Entity Dataset is: 91.47 % \n"
     ]
    }
   ],
   "source": [
    "# Calculate the f1 score using the test data\n",
    "y_pred = crf.predict(X_test)\n",
    "f1_score = metrics.flat_f1_score(y_test, y_pred, average='weighted')\n",
    "print('Predicted F1-score for Medical Entity Dataset is: {0} % '.format(round(f1_score*100,2)))"
   ]
  },
  {
   "cell_type": "markdown",
   "metadata": {
    "id": "vboKAiEE0Jou"
   },
   "source": [
    "**Predict Disease and Treatment**"
   ]
  },
  {
   "cell_type": "code",
   "execution_count": 32,
   "metadata": {
    "id": "JfD_MtMT0KP2"
   },
   "outputs": [],
   "source": [
    "# Taken out predicted label from the model\n",
    "pred_label=[]\n",
    "for i in y_pred:\n",
    "    pred_label.extend(i)"
   ]
  },
  {
   "cell_type": "code",
   "execution_count": 33,
   "metadata": {
    "id": "ZbZytoGe0Qeu"
   },
   "outputs": [],
   "source": [
    "# Loaded into test dataframe\n",
    "test_df['label_predicted'] = pred_label"
   ]
  },
  {
   "cell_type": "code",
   "execution_count": 34,
   "metadata": {
    "colab": {
     "base_uri": "https://localhost:8080/",
     "height": 206
    },
    "id": "AzMcLaVy0UNZ",
    "outputId": "2490808b-c738-4660-a689-a325aeacffd4"
   },
   "outputs": [
    {
     "data": {
      "application/vnd.google.colaboratory.intrinsic+json": {
       "summary": "{\n  \"name\": \"test_df\",\n  \"rows\": 19583,\n  \"fields\": [\n    {\n      \"column\": \"sentence\",\n      \"properties\": {\n        \"dtype\": \"date\",\n        \"min\": 1,\n        \"max\": 1056,\n        \"num_unique_values\": 1056,\n        \"samples\": [\n          261,\n          833,\n          847\n        ],\n        \"semantic_type\": \"\",\n        \"description\": \"\"\n      }\n    },\n    {\n      \"column\": \"word\",\n      \"properties\": {\n        \"dtype\": \"category\",\n        \"num_unique_values\": 5231,\n        \"samples\": [\n          \"equipment\",\n          \"14\",\n          \"sunlight\"\n        ],\n        \"semantic_type\": \"\",\n        \"description\": \"\"\n      }\n    },\n    {\n      \"column\": \"lemma\",\n      \"properties\": {\n        \"dtype\": \"category\",\n        \"num_unique_values\": 4324,\n        \"samples\": [\n          \"UA\",\n          \"or\",\n          \"tracheobronchus\"\n        ],\n        \"semantic_type\": \"\",\n        \"description\": \"\"\n      }\n    },\n    {\n      \"column\": \"pos\",\n      \"properties\": {\n        \"dtype\": \"category\",\n        \"num_unique_values\": 17,\n        \"samples\": [\n          \"ADV\",\n          \"PUNCT\",\n          \"AUX\"\n        ],\n        \"semantic_type\": \"\",\n        \"description\": \"\"\n      }\n    },\n    {\n      \"column\": \"label\",\n      \"properties\": {\n        \"dtype\": \"category\",\n        \"num_unique_values\": 3,\n        \"samples\": [\n          \"O\",\n          \"D\",\n          \"T\"\n        ],\n        \"semantic_type\": \"\",\n        \"description\": \"\"\n      }\n    },\n    {\n      \"column\": \"label_predicted\",\n      \"properties\": {\n        \"dtype\": \"category\",\n        \"num_unique_values\": 3,\n        \"samples\": [\n          \"O\",\n          \"D\",\n          \"T\"\n        ],\n        \"semantic_type\": \"\",\n        \"description\": \"\"\n      }\n    }\n  ]\n}",
       "type": "dataframe",
       "variable_name": "test_df"
      },
      "text/html": [
       "\n",
       "  <div id=\"df-5cb168e2-5b5d-41ec-967f-39216707e49e\" class=\"colab-df-container\">\n",
       "    <div>\n",
       "<style scoped>\n",
       "    .dataframe tbody tr th:only-of-type {\n",
       "        vertical-align: middle;\n",
       "    }\n",
       "\n",
       "    .dataframe tbody tr th {\n",
       "        vertical-align: top;\n",
       "    }\n",
       "\n",
       "    .dataframe thead th {\n",
       "        text-align: right;\n",
       "    }\n",
       "</style>\n",
       "<table border=\"1\" class=\"dataframe\">\n",
       "  <thead>\n",
       "    <tr style=\"text-align: right;\">\n",
       "      <th></th>\n",
       "      <th>sentence</th>\n",
       "      <th>word</th>\n",
       "      <th>lemma</th>\n",
       "      <th>pos</th>\n",
       "      <th>label</th>\n",
       "      <th>label_predicted</th>\n",
       "    </tr>\n",
       "  </thead>\n",
       "  <tbody>\n",
       "    <tr>\n",
       "      <th>0</th>\n",
       "      <td>1</td>\n",
       "      <td>Furthermore</td>\n",
       "      <td>furthermore</td>\n",
       "      <td>ADV</td>\n",
       "      <td>O</td>\n",
       "      <td>O</td>\n",
       "    </tr>\n",
       "    <tr>\n",
       "      <th>1</th>\n",
       "      <td>1</td>\n",
       "      <td>,</td>\n",
       "      <td>,</td>\n",
       "      <td>PUNCT</td>\n",
       "      <td>O</td>\n",
       "      <td>O</td>\n",
       "    </tr>\n",
       "    <tr>\n",
       "      <th>2</th>\n",
       "      <td>1</td>\n",
       "      <td>when</td>\n",
       "      <td>when</td>\n",
       "      <td>SCONJ</td>\n",
       "      <td>O</td>\n",
       "      <td>O</td>\n",
       "    </tr>\n",
       "    <tr>\n",
       "      <th>3</th>\n",
       "      <td>1</td>\n",
       "      <td>all</td>\n",
       "      <td>all</td>\n",
       "      <td>PRON</td>\n",
       "      <td>O</td>\n",
       "      <td>O</td>\n",
       "    </tr>\n",
       "    <tr>\n",
       "      <th>4</th>\n",
       "      <td>1</td>\n",
       "      <td>deliveries</td>\n",
       "      <td>delivery</td>\n",
       "      <td>NOUN</td>\n",
       "      <td>O</td>\n",
       "      <td>O</td>\n",
       "    </tr>\n",
       "  </tbody>\n",
       "</table>\n",
       "</div>\n",
       "    <div class=\"colab-df-buttons\">\n",
       "\n",
       "  <div class=\"colab-df-container\">\n",
       "    <button class=\"colab-df-convert\" onclick=\"convertToInteractive('df-5cb168e2-5b5d-41ec-967f-39216707e49e')\"\n",
       "            title=\"Convert this dataframe to an interactive table.\"\n",
       "            style=\"display:none;\">\n",
       "\n",
       "  <svg xmlns=\"http://www.w3.org/2000/svg\" height=\"24px\" viewBox=\"0 -960 960 960\">\n",
       "    <path d=\"M120-120v-720h720v720H120Zm60-500h600v-160H180v160Zm220 220h160v-160H400v160Zm0 220h160v-160H400v160ZM180-400h160v-160H180v160Zm440 0h160v-160H620v160ZM180-180h160v-160H180v160Zm440 0h160v-160H620v160Z\"/>\n",
       "  </svg>\n",
       "    </button>\n",
       "\n",
       "  <style>\n",
       "    .colab-df-container {\n",
       "      display:flex;\n",
       "      gap: 12px;\n",
       "    }\n",
       "\n",
       "    .colab-df-convert {\n",
       "      background-color: #E8F0FE;\n",
       "      border: none;\n",
       "      border-radius: 50%;\n",
       "      cursor: pointer;\n",
       "      display: none;\n",
       "      fill: #1967D2;\n",
       "      height: 32px;\n",
       "      padding: 0 0 0 0;\n",
       "      width: 32px;\n",
       "    }\n",
       "\n",
       "    .colab-df-convert:hover {\n",
       "      background-color: #E2EBFA;\n",
       "      box-shadow: 0px 1px 2px rgba(60, 64, 67, 0.3), 0px 1px 3px 1px rgba(60, 64, 67, 0.15);\n",
       "      fill: #174EA6;\n",
       "    }\n",
       "\n",
       "    .colab-df-buttons div {\n",
       "      margin-bottom: 4px;\n",
       "    }\n",
       "\n",
       "    [theme=dark] .colab-df-convert {\n",
       "      background-color: #3B4455;\n",
       "      fill: #D2E3FC;\n",
       "    }\n",
       "\n",
       "    [theme=dark] .colab-df-convert:hover {\n",
       "      background-color: #434B5C;\n",
       "      box-shadow: 0px 1px 3px 1px rgba(0, 0, 0, 0.15);\n",
       "      filter: drop-shadow(0px 1px 2px rgba(0, 0, 0, 0.3));\n",
       "      fill: #FFFFFF;\n",
       "    }\n",
       "  </style>\n",
       "\n",
       "    <script>\n",
       "      const buttonEl =\n",
       "        document.querySelector('#df-5cb168e2-5b5d-41ec-967f-39216707e49e button.colab-df-convert');\n",
       "      buttonEl.style.display =\n",
       "        google.colab.kernel.accessAllowed ? 'block' : 'none';\n",
       "\n",
       "      async function convertToInteractive(key) {\n",
       "        const element = document.querySelector('#df-5cb168e2-5b5d-41ec-967f-39216707e49e');\n",
       "        const dataTable =\n",
       "          await google.colab.kernel.invokeFunction('convertToInteractive',\n",
       "                                                    [key], {});\n",
       "        if (!dataTable) return;\n",
       "\n",
       "        const docLinkHtml = 'Like what you see? Visit the ' +\n",
       "          '<a target=\"_blank\" href=https://colab.research.google.com/notebooks/data_table.ipynb>data table notebook</a>'\n",
       "          + ' to learn more about interactive tables.';\n",
       "        element.innerHTML = '';\n",
       "        dataTable['output_type'] = 'display_data';\n",
       "        await google.colab.output.renderOutput(dataTable, element);\n",
       "        const docLink = document.createElement('div');\n",
       "        docLink.innerHTML = docLinkHtml;\n",
       "        element.appendChild(docLink);\n",
       "      }\n",
       "    </script>\n",
       "  </div>\n",
       "\n",
       "\n",
       "<div id=\"df-d4d181e9-5258-4ce5-9a7b-17e43d673cbf\">\n",
       "  <button class=\"colab-df-quickchart\" onclick=\"quickchart('df-d4d181e9-5258-4ce5-9a7b-17e43d673cbf')\"\n",
       "            title=\"Suggest charts\"\n",
       "            style=\"display:none;\">\n",
       "\n",
       "<svg xmlns=\"http://www.w3.org/2000/svg\" height=\"24px\"viewBox=\"0 0 24 24\"\n",
       "     width=\"24px\">\n",
       "    <g>\n",
       "        <path d=\"M19 3H5c-1.1 0-2 .9-2 2v14c0 1.1.9 2 2 2h14c1.1 0 2-.9 2-2V5c0-1.1-.9-2-2-2zM9 17H7v-7h2v7zm4 0h-2V7h2v10zm4 0h-2v-4h2v4z\"/>\n",
       "    </g>\n",
       "</svg>\n",
       "  </button>\n",
       "\n",
       "<style>\n",
       "  .colab-df-quickchart {\n",
       "      --bg-color: #E8F0FE;\n",
       "      --fill-color: #1967D2;\n",
       "      --hover-bg-color: #E2EBFA;\n",
       "      --hover-fill-color: #174EA6;\n",
       "      --disabled-fill-color: #AAA;\n",
       "      --disabled-bg-color: #DDD;\n",
       "  }\n",
       "\n",
       "  [theme=dark] .colab-df-quickchart {\n",
       "      --bg-color: #3B4455;\n",
       "      --fill-color: #D2E3FC;\n",
       "      --hover-bg-color: #434B5C;\n",
       "      --hover-fill-color: #FFFFFF;\n",
       "      --disabled-bg-color: #3B4455;\n",
       "      --disabled-fill-color: #666;\n",
       "  }\n",
       "\n",
       "  .colab-df-quickchart {\n",
       "    background-color: var(--bg-color);\n",
       "    border: none;\n",
       "    border-radius: 50%;\n",
       "    cursor: pointer;\n",
       "    display: none;\n",
       "    fill: var(--fill-color);\n",
       "    height: 32px;\n",
       "    padding: 0;\n",
       "    width: 32px;\n",
       "  }\n",
       "\n",
       "  .colab-df-quickchart:hover {\n",
       "    background-color: var(--hover-bg-color);\n",
       "    box-shadow: 0 1px 2px rgba(60, 64, 67, 0.3), 0 1px 3px 1px rgba(60, 64, 67, 0.15);\n",
       "    fill: var(--button-hover-fill-color);\n",
       "  }\n",
       "\n",
       "  .colab-df-quickchart-complete:disabled,\n",
       "  .colab-df-quickchart-complete:disabled:hover {\n",
       "    background-color: var(--disabled-bg-color);\n",
       "    fill: var(--disabled-fill-color);\n",
       "    box-shadow: none;\n",
       "  }\n",
       "\n",
       "  .colab-df-spinner {\n",
       "    border: 2px solid var(--fill-color);\n",
       "    border-color: transparent;\n",
       "    border-bottom-color: var(--fill-color);\n",
       "    animation:\n",
       "      spin 1s steps(1) infinite;\n",
       "  }\n",
       "\n",
       "  @keyframes spin {\n",
       "    0% {\n",
       "      border-color: transparent;\n",
       "      border-bottom-color: var(--fill-color);\n",
       "      border-left-color: var(--fill-color);\n",
       "    }\n",
       "    20% {\n",
       "      border-color: transparent;\n",
       "      border-left-color: var(--fill-color);\n",
       "      border-top-color: var(--fill-color);\n",
       "    }\n",
       "    30% {\n",
       "      border-color: transparent;\n",
       "      border-left-color: var(--fill-color);\n",
       "      border-top-color: var(--fill-color);\n",
       "      border-right-color: var(--fill-color);\n",
       "    }\n",
       "    40% {\n",
       "      border-color: transparent;\n",
       "      border-right-color: var(--fill-color);\n",
       "      border-top-color: var(--fill-color);\n",
       "    }\n",
       "    60% {\n",
       "      border-color: transparent;\n",
       "      border-right-color: var(--fill-color);\n",
       "    }\n",
       "    80% {\n",
       "      border-color: transparent;\n",
       "      border-right-color: var(--fill-color);\n",
       "      border-bottom-color: var(--fill-color);\n",
       "    }\n",
       "    90% {\n",
       "      border-color: transparent;\n",
       "      border-bottom-color: var(--fill-color);\n",
       "    }\n",
       "  }\n",
       "</style>\n",
       "\n",
       "  <script>\n",
       "    async function quickchart(key) {\n",
       "      const quickchartButtonEl =\n",
       "        document.querySelector('#' + key + ' button');\n",
       "      quickchartButtonEl.disabled = true;  // To prevent multiple clicks.\n",
       "      quickchartButtonEl.classList.add('colab-df-spinner');\n",
       "      try {\n",
       "        const charts = await google.colab.kernel.invokeFunction(\n",
       "            'suggestCharts', [key], {});\n",
       "      } catch (error) {\n",
       "        console.error('Error during call to suggestCharts:', error);\n",
       "      }\n",
       "      quickchartButtonEl.classList.remove('colab-df-spinner');\n",
       "      quickchartButtonEl.classList.add('colab-df-quickchart-complete');\n",
       "    }\n",
       "    (() => {\n",
       "      let quickchartButtonEl =\n",
       "        document.querySelector('#df-d4d181e9-5258-4ce5-9a7b-17e43d673cbf button');\n",
       "      quickchartButtonEl.style.display =\n",
       "        google.colab.kernel.accessAllowed ? 'block' : 'none';\n",
       "    })();\n",
       "  </script>\n",
       "</div>\n",
       "\n",
       "    </div>\n",
       "  </div>\n"
      ],
      "text/plain": [
       "  sentence         word        lemma    pos label label_predicted\n",
       "0        1  Furthermore  furthermore    ADV     O               O\n",
       "1        1            ,            ,  PUNCT     O               O\n",
       "2        1         when         when  SCONJ     O               O\n",
       "3        1          all          all   PRON     O               O\n",
       "4        1   deliveries     delivery   NOUN     O               O"
      ]
     },
     "execution_count": 34,
     "metadata": {},
     "output_type": "execute_result"
    }
   ],
   "source": [
    "# Visualise top 5 data\n",
    "test_df.head(5)"
   ]
  },
  {
   "cell_type": "markdown",
   "metadata": {
    "id": "9lwPKhQN0bsn"
   },
   "source": [
    "**Dictionary Preparation**"
   ]
  },
  {
   "cell_type": "code",
   "execution_count": 35,
   "metadata": {
    "id": "jB9EgKRe0dCQ"
   },
   "outputs": [],
   "source": [
    "# Preparing dictionary by keeping Disease as unique Key element and Treatment as value element\n",
    "new_df =test_df[(test_df['label_predicted'] != 'O')]\n",
    "new_df.set_index('sentence',inplace=True)\n",
    "disease=[]\n",
    "treatment=[]\n",
    "sentence=[]\n",
    "med_dict = {}\n",
    "for i in new_df.index.unique():\n",
    "    try:\n",
    "        val = new_df.loc[i,'label_predicted'].unique()\n",
    "        if len(val) == 2:\n",
    "            disease_val = new_df[new_df['label_predicted'] == 'D'].loc[i,'word']\n",
    "            treatment_val = new_df[new_df['label_predicted'] == 'T'].loc[i,'word']\n",
    "            disease_single = disease_val if type(disease_val) == str else \" \".join(disease_val)\n",
    "            treatment_single = treatment_val if type(treatment_val) == str else \" \".join(treatment_val)\n",
    "            if disease_single not in disease:\n",
    "                med_dict[disease_single] = treatment_single\n",
    "            else:\n",
    "                print('Entered')\n",
    "                med_dict[disease_single] = med_dict.get(disease_single)+'/'+treatment_single\n",
    "    except AttributeError:\n",
    "        pass"
   ]
  },
  {
   "cell_type": "code",
   "execution_count": 36,
   "metadata": {
    "colab": {
     "base_uri": "https://localhost:8080/"
    },
    "id": "FVePbB1j0lKl",
    "outputId": "92ec0a06-cff0-4f4b-91b0-2ab32ae5da87"
   },
   "outputs": [
    {
     "name": "stdout",
     "output_type": "stream",
     "text": [
      "{'gestational diabetes cases': 'good glycemic control', 'nonimmune hydrops fetalis': 'Trisomy', 'retinoblastoma': 'radiotherapy', 'epilepsy': 'Methylphenidate', 'unstable angina or non - Q - wave myocardial infarction': 'roxithromycin', 'coronary - artery disease': 'Antichlamydial antibiotics', 'primary pulmonary hypertension ( PPH )': 'fenfluramines', 'foot infection': 'G - CSF treatment', 'hemorrhagic stroke': 'double - bolus alteplase alteplase ( P=0.24', 'cardiac disease': 'fenfluramine - phentermine', 'rheumatoid arthritis': 'arthrodesis', \"early Parkinson 's disease\": 'Ropinirole monotherapy', 'sore throat': 'Antibiotics', 'female stress urinary incontinence': 'surgical treatment', 'corpal gastritis': 'gastric acid secretion', 'preeclampsia ( proteinuric hypertension )': 'intrauterine insemination with donor sperm intrauterine insemination', 'severe acquired hyperammonemia cancer': 'organ transplantation and chemotherapy', 'major pulmonary embolism': 'thrombolytic treatment', 'malignant pleural mesothelioma': 'thoracotomy , radiotherapy , and chemotherapy', 'non - obstructive azoospermia': 'TEFNA', 'testicular bleeding': 'fine needle aspiration', 'heart failure': 'beta - blockade', 'duodenal ulcer': 'subtotal gastrectomy', 'colorectal cancer': 'docosahexanoic acid ( DHA ) -concentrated fish oil capsules', 'gastrointestinal tumours': 'Elective surgery', 'bronchial asthma': 'Non - steroidal anti - inflammatory therapy', \"'s disease\": 'Ovine Johne', \"Parkinson 's disease\": 'Microelectrode - guided posteroventral pallidotomy', 'Alopecia': 'tacrolimus therapy', \"Eisenmenger 's syndrome\": 'laparoscopic cholecystectomy', 'breast cancer': 'Hormone replacement therapy', 'non - seminomatous germ - cell tumors': 'chemotherapy', 'orthotopic tumor control': 'adenovirus - mediated interleukin 12 ( il-12 ) gene therapy', 'malignant tumors such as non - small cell lung cancer': 'surgery', 'inflammatory skin diseases': 'topical corticosteroids', 'nsclc nsclc ( stage iiib ) sclc': 'got surgical treatment chemo- and radiotherapy', 'nsclc': 'sequential chemotherapy', 'locally advanced non - small - cell lung cancer ( la - nsclc )': 'combined - modality therapy ( cmt ; chemotherapy and radiotherapy )', 'radiation - induced myelopathy': 'heparin and enoxaparin', 'limited stage small cell lung cancer': 'vip combination chemotherapy and early concurrent thoracic irradiation', 'regionally advanced disease': 'resection , allowing neoadjuvant therapy', 'malignant pleural effusions from nsclc': 'systemic chemotherapy', 'small - cell lung cancer': 'combination chemotherapy', 'intraluminal early - stage cancer': 'photodynamic therapy , nd - yag laser and electrocautery', 'supraclavicular node metastases in nsclc': 'chemoradiotherapy', 'non - small - cell - lung - cancer ( nsclc ) patients': 'cisplatin and radiotherapy', 'lung carcinoma': 'videothoracoscopic lobectomy or partial resection of the lung instead of an open thoracotomy', 'stage 0 lung carcinoma': 'curative therapy', 'single non - sclc ovarian carcinoma brain metastasis': 'surgical resection', 'colorectal metastases': 'therapeutic vats metastasectomy', 'limited - stage small - cell carcinoma of the lung': 'combined - modality therapy', 'advanced nsclc': 'assessing combination chemotherapy of cisplatin , ifosfamide and irinotecan with rhg - csf support', 'metastatic colorectal cancer': 'other agents', \"non - hodgkin 's lymphoma breast cancer mesothelioma and non - small cell lung cancer\": 'oxaliplatin', 'primary tumor ( li ) bronchogenic carcinoma': 'resection', 'non - small cell lung cancer hormone refractory prostate cancer': 'paclitaxel and carboplatin', 'primary lung cancer adenocarcinoma squamous cell carcinoma ( sq )': 'resection', 'stage iii nsclc': 'chemotherapy administered before surgery or definitive irradiation', 'advanced non -- small - cell lung cancer': 'paclitaxel plus carboplatin ( pc ) vinorelbine plus cisplatin ( vc )', 'sclc extensive disease': 'platinum dose ( cisplatin plus carboplatin ) in combination chemotherapy combination therapy with carboplatin', 'untreated small cell lung cancer ( sclc ) untreated sclc': 'technetium-99 m tetrofosmin ( tc - tf ) accumulation chemotherapy', 'head and neck cancer': 'irradiation therapy intravenous amifostine', 'psoriasis': 'topical therapy', 'third nerve palsy': 'lateral rectus surgery sixth nerve palsy', 'disseminated malignant melanoma': 'leukocyte A recombinant interferon ( rIFN - alpha A , Roferon - A', 'advanced stage ( TNM IIB - IVB ) mycosis fungoides': 'combination chemotherapy program consisting of bleomycin and methotrexate weekly', 'ventricular tachycardia': 'surgical therapy', 'non - functioning endocrine pancreatic tumor': 'i.m . lanreotide therapy', 'cholestasis': 'crude drugs', 'severe acute hepatitis accompanying cholestasis autoimmune hepatitis': 'TJ-135', 'syringomyelia spinal adhesive arachnoiditis': 'Surgical management', 'symptomatic bronchiectasis': 'antibiotics , antibronchoobstructive medication , and chest physical therapy', 'bronchiectasis': 'Current surgical therapy', 'biliary colic symptoms biliary dyskinesia': 'cholecystectomy', 'biliary dyskinesia': 'Cholecystectomy', 'common cold': 'Macrolide antibiotics', 'inflammation': 'video - assisted thoracoscopic surgery', 'asthma': 'Fluticasone propionate', 'acute nasopharyngitis': 'antibiotic treatment', 'infection': 'antileukemic therapy', 'influenza breast cancer': 'vaccination', 'carcinoma': 'esophagectomy', 'persistent asthma': 'Contemporary asthma management guidelines list inhaled corticosteroids', 'chronic hepatitis C': 'Combination therapy with interferon - alpha ( IFN alpha ) plus Ribavirin', 'hepatitis C viremia': 'combination therapy', 'duodenogastric reflux': 'cholecystectomy', 'severe hypoxemia': 'glucocorticoid pulse therapy', 'AOM': 'Amoxicillin remains the antibiotic of choice', 'bacterial meningitis include a dramatic decline Haemophilus influenzae meningitis': 'antibiotic - resistant strains', 'acute myocardial infarction': 'thrombolytic treatment', 'ischemic heart disease': 'Aortocoronary bypass grafting', 's.c . tumors peritoneal tumors': 'Subcutaneous injection of irradiated LLC - IL2 did', 'stenosis': 'thrombolytic therapy', 'inflammatory and autoimmune diseases': 'High - dose intravenous immunoglobulin ( hdIVIg )', 'cancer': 'Matrix metalloproteinase inhibitors', 'phaeochromocytoma': 'Adrenalectomy', 'malignant melanoma': 'single agent therapy interferon alfa-2a', 'advanced renal cell carcinoma': 'interferon alfa - N1 , interferon alfa-2a , and interferon alfa-2b', \"low - grade non - Hodgkin 's lymphoma\": 'interferon alpha', 'partial seizures': 'lamotrigine monotherapy', 'esophageal achalasia': 'botulinum toxin injection , pneumatic dilation , and laparoscopic myotomy', 'irritable bowel syndrome': 'Chinese herbal medicine', 'proximal hypospadias': 'Tubularized incised plate hypospadias repair', 'prostate cancer': 'radical prostatectomy and iodine 125 interstitial radiotherapy', 'mitomycin - resistant bladder cancer': 'photodynamic therapy in combination with mitomycin C', 'B16 melanoma': 'adenosine triphosphate and treatment with buthionine sulfoximine', 'advanced rectal cancer': 'Nerve - sparing surgery', 'spontaneous pneumothorax': 'Thoracoscopic surgery', 'empyema': 'Thoracoscopy', 'acute cerebral ischemia': 'Antiplatelet therapy', 'renal cell carcinoma': 'Interferon treatment', 'myocardial angiogenesis': 'Gene therapy', 'autoimmune hemolytic anemia': 'heparin', 'epithelial ovarian cancer': 'High - dose chemotherapy with autologous stem - cell support', 'lymphoma': 'Paclitaxel', 'renovascular hypertension': 'Percutaneous transluminal angioplasty', 'moderately symptomatic benign prostatic hyperplasia': 'surgical resection', 'pulmonary hypertension': 'Single or double lung transplantation', 'multiple sclerosis': 'Intravenous immunoglobulin treatment', 'acoustic neuroma': 'Stereotactic radiosurgery', 'cerebral palsy': 'Hyperbaric oxygen therapy', 'postvitrectomy diabetic vitreous hemorrhage': 'Peripheral retinal cryotherapy', 'novel hepatitis B': 'vaccine', 'pertussis': 'vaccines', 'perioperative mortality and myocardial infarction': 'vascular surgery', 'severe secondary peritonitis': 'Surgical management', 'hepatic metastases from colorectal cancer': 'Hepatic arterial infusion of chemotherapy after resection', 'severe diverticular hemorrhage': 'Urgent colonoscopy', 'responsive multiple myeloma': \"` ` Tandem '' high - dose chemoradiotherapy with autologous stem - cell support\"}\n"
     ]
    }
   ],
   "source": [
    "print(med_dict)"
   ]
  },
  {
   "cell_type": "code",
   "execution_count": 52,
   "metadata": {
    "colab": {
     "base_uri": "https://localhost:8080/"
    },
    "id": "l6bGtuwB0rD3",
    "outputId": "daf9fd88-0db7-4fe7-c2f4-fc08bb092519"
   },
   "outputs": [
    {
     "name": "stdout",
     "output_type": "stream",
     "text": [
      "Identified Disease:  retinoblastoma\n",
      "Identified Treatment:  radiotherapy\n"
     ]
    }
   ],
   "source": [
    "#Predict treatment withthe help of dictionary\n",
    "d=[]\n",
    "disease=''\n",
    "test_sent=[]\n",
    "treatment=''\n",
    "\n",
    "input_sent = 'Rahul suffering from hereditary retinoblastoma'\n",
    "m = spacy.load('en_core_web_sm')\n",
    "doc = m(input_sent)\n",
    "for i in doc:\n",
    "    d.append((i.text,i.pos_,'D'))\n",
    "test_sent.append(sent2features(d))\n",
    "for i,tag in enumerate(crf.predict(test_sent)[0]):\n",
    "    if tag == 'D':\n",
    "        tr = input_sent.split()[i]\n",
    "        disease += tr\n",
    "        if tr in med_dict:\n",
    "            treatment += ''+med_dict.get(tr)\n",
    "if len(treatment) == 0:\n",
    "    treatment='None'\n",
    "print('Identified Disease: ',disease)\n",
    "print('Identified Treatment: ', treatment)"
   ]
  }
 ],
 "metadata": {
  "colab": {
   "provenance": []
  },
  "kernelspec": {
   "display_name": "Python 3 (ipykernel)",
   "language": "python",
   "name": "python3"
  },
  "language_info": {
   "codemirror_mode": {
    "name": "ipython",
    "version": 3
   },
   "file_extension": ".py",
   "mimetype": "text/x-python",
   "name": "python",
   "nbconvert_exporter": "python",
   "pygments_lexer": "ipython3",
   "version": "3.11.4"
  }
 },
 "nbformat": 4,
 "nbformat_minor": 1
}
